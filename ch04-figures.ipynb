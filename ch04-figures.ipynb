{
 "cells": [
  {
   "cell_type": "markdown",
   "metadata": {},
   "source": [
    "# Chapter 4: Figures"
   ]
  },
  {
   "cell_type": "markdown",
   "metadata": {},
   "source": [
    "Robert Johansson\n",
    "\n",
    "Source code listings for [Numerical Python - Scientific Computing and Data Science Applications with Numpy, SciPy and Matplotlib](https://link.springer.com/book/10.1007/979-8-8688-0413-7) (ISBN 979-8-8688-0412-0)."
   ]
  },
  {
   "cell_type": "code",
   "execution_count": 1,
   "metadata": {
    "collapsed": false,
    "jupyter": {
     "outputs_hidden": false
    }
   },
   "outputs": [],
   "source": [
    "%matplotlib inline\n",
    "import matplotlib.pyplot as plt\n",
    "import matplotlib as mpl"
   ]
  },
  {
   "cell_type": "code",
   "execution_count": 2,
   "metadata": {
    "collapsed": false,
    "jupyter": {
     "outputs_hidden": false
    }
   },
   "outputs": [
    {
     "data": {
      "image/png": "[encoded data removed]",
      "text/plain": [
       "<Figure size 640x480 with 2 Axes>"
      ]
     },
     "metadata": {},
     "output_type": "display_data"
    }
   ],
   "source": [
    "fig = plt.figure()\n",
    "\n",
    "ax = fig.add_axes([0.05, 0.05, .88, .88])\n",
    "ax.set_yticks([])\n",
    "ax.set_xticks([])\n",
    "ax.text(0.001, 0.01, \"(0,0)\")\n",
    "ax.text(1.001, 0.01, \"(1,0)\")\n",
    "ax.text(0.001, 1.01, \"(0,1)\")\n",
    "ax.text(1.001, 1.01, \"(1,1)\")\n",
    "ax.text(0.02, 0.92, \"Figure\", fontsize=18)\n",
    "\n",
    "ax.text(0.12, 0.06, \"(0.15, 0.15)\")\n",
    "\n",
    "ax = fig.add_axes([0.15, 0.15, 0.68, 0.66])\n",
    "ax.text(0.03, 0.88, \"Axes\", fontsize=18)\n",
    "ax.set_yticks([])\n",
    "ax.set_xticks([])\n",
    "\n",
    "\n",
    "fig.savefig(\"figure-axes-schematic.pdf\");"
   ]
  },
  {
   "cell_type": "code",
   "execution_count": 3,
   "metadata": {
    "collapsed": false,
    "jupyter": {
     "outputs_hidden": false
    }
   },
   "outputs": [
    {
     "data": {
      "image/png": "[encoded data removed]",
      "text/plain": [
       "<Figure size 640x480 with 1 Axes>"
      ]
     },
     "metadata": {},
     "output_type": "display_data"
    }
   ],
   "source": [
    "fig = plt.figure()\n",
    "\n",
    "\n",
    "ax.text(0.12, 0.06, \"(0.15, 0.15)\")\n",
    "\n",
    "ax = fig.add_axes([0.15, 0.15, 0.68, 0.66])\n",
    "ax.set_yticks([1, 2, 3])\n",
    "ax.set_xticks([1, 2, 3])\n",
    "\n",
    "#ax.set_yticklabels(['', '', ''])\n",
    "\n",
    "ax.set_xlabel(\"x axis\", fontsize=18)\n",
    "ax.set_ylabel(\"y axis\", fontsize=18)\n",
    "\n",
    "ax.set_xlim(1,3)\n",
    "ax.set_ylim(1,3)\n",
    "\n",
    "ax.xaxis.set_minor_locator(mpl.ticker.MultipleLocator(0.25))\n",
    "ax.yaxis.set_minor_locator(mpl.ticker.MultipleLocator(0.25))\n",
    "\n",
    "ax.annotate(\"Major tick\",\n",
    "         xy=(1, 2), xycoords='data',\n",
    "         xytext=(+35, +30), textcoords='offset points', fontsize=16,\n",
    "         arrowprops=dict(arrowstyle=\"->\", connectionstyle=\"arc3, rad=.2\"))\n",
    "\n",
    "ax.annotate(\"Minor tick\",\n",
    "         xy=(1, 1.5), xycoords='data',\n",
    "         xytext=(+35, +30), textcoords='offset points', fontsize=16,\n",
    "         arrowprops=dict(arrowstyle=\"->\", connectionstyle=\"arc3, rad=.2\"))\n",
    "\n",
    "fig.savefig(\"figure-axis-schematic.pdf\");"
   ]
  },
  {
   "cell_type": "markdown",
   "metadata": {},
   "source": [
    "# Versions"
   ]
  },
  {
   "cell_type": "code",
   "execution_count": 4,
   "metadata": {
    "collapsed": false,
    "jupyter": {
     "outputs_hidden": false
    }
   },
   "outputs": [],
   "source": [
    "%reload_ext version_information"
   ]
  },
  {
   "cell_type": "code",
   "execution_count": 5,
   "metadata": {
    "collapsed": false,
    "jupyter": {
     "outputs_hidden": false
    }
   },
   "outputs": [
    {
     "data": {
      "application/json": {
       "Software versions": [
        {
         "module": "Python",
         "version": "3.10.12 64bit [Clang 14.0.6 ]"
        },
        {
         "module": "IPython",
         "version": "8.12.0"
        },
        {
         "module": "OS",
         "version": "macOS 10.15.7 x86_64 i386 64bit"
        },
        {
         "module": "numpy",
         "version": "1.22.3"
        },
        {
         "module": "matplotlib",
         "version": "3.7.1"
        }
       ]
      },
      "text/html": [
       "<table><tr><th>Software</th><th>Version</th></tr><tr><td>Python</td><td>3.10.12 64bit [Clang 14.0.6 ]</td></tr><tr><td>IPython</td><td>8.12.0</td></tr><tr><td>OS</td><td>macOS 10.15.7 x86\\_64 i386 64bit</td></tr><tr><td>numpy</td><td>1.22.3</td></tr><tr><td>matplotlib</td><td>3.7.1</td></tr><tr><td colspan='2'>Sat Nov 02 18:11:39 2024 JST</td></tr></table>"
      ],
      "text/latex": [
       "\\begin{tabular}{|l|l|}\\hline\n",
       "{\\bf Software} & {\\bf Version} \\\\ \\hline\\hline\n",
       "Python & 3.10.12 64bit [Clang 14.0.6 ] \\\\ \\hline\n",
       "IPython & 8.12.0 \\\\ \\hline\n",
       "OS & macOS 10.15.7 x86\\_64 i386 64bit \\\\ \\hline\n",
       "numpy & 1.22.3 \\\\ \\hline\n",
       "matplotlib & 3.7.1 \\\\ \\hline\n",
       "\\hline \\multicolumn{2}{|l|}{Sat Nov 02 18:11:39 2024 JST} \\\\ \\hline\n",
       "\\end{tabular}\n"
      ],
      "text/plain": [
       "Software versions\n",
       "Python 3.10.12 64bit [Clang 14.0.6 ]\n",
       "IPython 8.12.0\n",
       "OS macOS 10.15.7 x86_64 i386 64bit\n",
       "numpy 1.22.3\n",
       "matplotlib 3.7.1\n",
       "Sat Nov 02 18:11:39 2024 JST"
      ]
     },
     "execution_count": 5,
     "metadata": {},
     "output_type": "execute_result"
    }
   ],
   "source": [
    "%version_information numpy, matplotlib"
   ]
  },
  {
   "cell_type": "code",
   "execution_count": null,
   "metadata": {},
   "outputs": [],
   "source": []
  }
 ],
 "metadata": {
  "kernelspec": {
   "display_name": "npbook_py310",
   "language": "python",
   "name": "npbook_py310"
  },
  "language_info": {
   "codemirror_mode": {
    "name": "ipython",
    "version": 3
   },
   "file_extension": ".py",
   "mimetype": "text/x-python",
   "name": "python",
   "nbconvert_exporter": "python",
   "pygments_lexer": "ipython3",
   "version": "3.10.12"
  }
 },
 "nbformat": 4,
 "nbformat_minor": 4
}
